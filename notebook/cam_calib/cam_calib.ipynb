{
 "cells": [
  {
   "cell_type": "code",
   "execution_count": 35,
   "metadata": {},
   "outputs": [
    {
     "data": {
      "text/plain": [
       "<module 'camera_calibration' from 'c:\\\\Users\\\\akoss\\\\work\\\\hunbug\\\\repos\\\\cam_cv\\\\src\\\\cam_calib\\\\camera_calibration.py'>"
      ]
     },
     "execution_count": 35,
     "metadata": {},
     "output_type": "execute_result"
    }
   ],
   "source": [
    "import matplotlib.pyplot as plt\n",
    "import cv2\n",
    "import numpy as np\n",
    "from IPython.display import display, Image\n",
    "import ipywidgets as widgets\n",
    "import threading\n",
    "import json\n",
    "\n",
    "import camera_calibration as cc\n",
    "# make sure to reload the module if it was already imported\n",
    "import importlib\n",
    "importlib.reload(cc)"
   ]
  },
  {
   "cell_type": "code",
   "execution_count": 2,
   "metadata": {},
   "outputs": [],
   "source": [
    "ocv_cam_calib = cc.OpenCvCalibration((9, 6), 1.0)\n",
    "NEEDED_SUCCESSFUL_CALIBRATIONS = 10"
   ]
  },
  {
   "cell_type": "code",
   "execution_count": null,
   "metadata": {},
   "outputs": [
    {
     "name": "stdout",
     "output_type": "stream",
     "text": [
      "Could not find checkerboard corners in the image\n"
     ]
    }
   ],
   "source": [
    "# Do on-the-fly calibration on the camera\n",
    "# Stop button\n",
    "# ================\n",
    "stop_button = widgets.ToggleButton(\n",
    "    value=False,\n",
    "    description='Stop',\n",
    "    disabled=False,\n",
    "    button_style='danger', # 'success', 'info', 'warning', 'danger' or ''\n",
    "    tooltip='Stop the camera',\n",
    "    icon='square'\n",
    ")\n",
    "\n",
    "def draw_reprojection(image: np.ndarray, points_3d: np.ndarray, camera_calib_params: cc.CameraCalibParams) -> np.ndarray:\n",
    "    projected_points = ocv_cam_calib.project_points(points_3d, camera_calib_params)\n",
    "    result_image = image.copy()\n",
    "    for i in range(projected_points.shape[0]):\n",
    "        center = (int(projected_points[i][0][0]), int(projected_points[i][0][1]))\n",
    "        cv2.circle(result_image, center, 3, (0, 0, 255), -1)\n",
    "    return result_image\n",
    "\n",
    "def draw_test_mesh(image: np.ndarray, points_3d: np.ndarray, camera_calib_params: cc.CameraCalibParams,\n",
    "                    rotation_index: int = 0, connect_points: bool = False) -> np.ndarray:\n",
    "    # rotation center is the middle of the mesh\n",
    "    rotation_center = np.mean(points_3d, axis=0)\n",
    "    ROTATION_ANGLE_PER_FRAME = 0.1\n",
    "    rotation_angle = ROTATION_ANGLE_PER_FRAME * rotation_index\n",
    "    rotation_matrix = cv2.Rodrigues(np.array([0, rotation_angle, 0]))[0]\n",
    "    rotated_points_3d = np.matmul(points_3d - rotation_center, rotation_matrix) + rotation_center\n",
    "    projected_points = ocv_cam_calib.project_points(rotated_points_3d, camera_calib_params)\n",
    "    result_image = image.copy()\n",
    "    for i in range(projected_points.shape[0]):\n",
    "        if connect_points:\n",
    "            if i > 0:\n",
    "                cv2.line(result_image, (int(projected_points[i-1][0][0]), int(projected_points[i-1][0][1])),\n",
    "                         (int(projected_points[i][0][0]), int(projected_points[i][0][1])), (0, 0, 255), 1)\n",
    "        else:\n",
    "            center = (int(projected_points[i][0][0]), int(projected_points[i][0][1]))\n",
    "            cv2.circle(result_image, center, 3, (0, 0, 255), -1)\n",
    "    return result_image\n",
    "\n",
    "def get_heart_mesh_points() -> np.ndarray:\n",
    "    heart_points = np.array([\n",
    "        [0,0,0],\n",
    "        [-2, 2, 0],\n",
    "        [-1,3,0],\n",
    "        [0,2,0],\n",
    "        [1,3,0],\n",
    "        [2,2,0],\n",
    "        [0,0,0]\n",
    "        ], dtype=np.float32)\n",
    "    return heart_points\n",
    "\n",
    "def get_box_mesh_points() -> np.ndarray:\n",
    "    box_connected_points = np.array([\n",
    "        [0,0,0],\n",
    "        [0,1,0],\n",
    "        [1,1,0],\n",
    "        [1,0,0],\n",
    "        [0,0,0],\n",
    "        [0,0,-1],\n",
    "        [0,1,-1],\n",
    "        [1,1,-1],\n",
    "        [1,0,-1],\n",
    "        [0,0,-1],\n",
    "        [0,1,-1],\n",
    "        [1,1,-1],\n",
    "        [1,1,0],\n",
    "        [1,1,-1],\n",
    "        [1,0,-1],\n",
    "        [1,0,0],\n",
    "        [0,0,0]\n",
    "        ], dtype=np.float32)\n",
    "    box_connected_points = box_connected_points + [3,3,0]\n",
    "    return box_connected_points\n",
    "        \n",
    "\n",
    "\n",
    "# Display function\n",
    "# ================\n",
    "def on_the_fly_view(button):\n",
    "    cap = cv2.VideoCapture(0)\n",
    "    display_handle=display(None, display_id=True)\n",
    "    i = 0\n",
    "    test_mesh = get_heart_mesh_points()\n",
    "    test_mesh2 = get_box_mesh_points()\n",
    "    while i<=10000:\n",
    "        _, frame = cap.read()\n",
    "        frame = cv2.flip(frame, 1) # if your camera reverses your image\n",
    "        try:\n",
    "            calibration = ocv_cam_calib.calibrate_camera(frame)\n",
    "            frame = draw_reprojection(frame, ocv_cam_calib.get_3d_points(), calibration)\n",
    "            frame = draw_test_mesh(frame, test_mesh, calibration, i, True)\n",
    "            frame = draw_test_mesh(frame, test_mesh2, calibration, 0, True)\n",
    "        except Exception as e:\n",
    "            cv2.putText(frame, str(e), (10, 50), cv2.FONT_HERSHEY_SIMPLEX, 0.5, (255, 0, 0), 2, cv2.LINE_AA)\n",
    "        cv2.putText(frame, \"Press stop button to stop\", (10, 100), cv2.FONT_HERSHEY_SIMPLEX, 0.5, (255, 0, 0), 2, cv2.LINE_AA)\n",
    "        _, frame = cv2.imencode('.jpeg', frame)\n",
    "        img = Image(data=frame.tobytes())\n",
    "        display_handle.update(img)\n",
    "        if stop_button.value==True:\n",
    "            cap.release()\n",
    "            display_handle.update(None)\n",
    "        i += 1\n",
    "\n",
    "def get_points_in_calibrated_sapce(image: np.ndarray, checkerboard_pattern: tuple[int, int], calibration: cc.CameraCalibParams) -> tuple[np.ndarray, np.ndarray]:\n",
    "    square_size = 1.0\n",
    "    objp = np.zeros((checkerboard_pattern[0] * checkerboard_pattern[1], 3), np.float32)\n",
    "    objp[:, :2] = np.mgrid[0:checkerboard_pattern[0], 0:checkerboard_pattern[1]].T.reshape(-1, 2) * square_size\n",
    "\n",
    "    gray = cv2.cvtColor(image, cv2.COLOR_BGR2GRAY)\n",
    "    ret, corners = cv2.findChessboardCorners(gray, checkerboard_pattern, None)\n",
    "    if ret:\n",
    "        # Refine the corner positions to subpixel accuracy\n",
    "        corners = cv2.cornerSubPix(gray, corners, (11, 11), (-1, -1), criteria=(cv2.TERM_CRITERIA_EPS + cv2.TERM_CRITERIA_MAX_ITER, 30, 0.001))\n",
    "\n",
    "        # Calculate the rotation and translation of the checkerboard in the camera coordinate system\n",
    "        ret, rvec, tvec = cv2.solvePnP(objp, corners, calibration.camera_matrix, calibration.dist_coeffs)\n",
    "\n",
    "        return rvec, tvec\n",
    "    else:\n",
    "        print('Could not find checkerboard corners in the image')\n",
    "        return None, None"
   ]
  },
  {
   "cell_type": "code",
   "execution_count": 9,
   "metadata": {},
   "outputs": [
    {
     "data": {
      "application/vnd.jupyter.widget-view+json": {
       "model_id": "27ace354f52443e6b7a7bfe652260ed9",
       "version_major": 2,
       "version_minor": 0
      },
      "text/plain": [
       "ToggleButton(value=False, button_style='danger', description='Stop', icon='square', tooltip='Stop the camera')"
      ]
     },
     "metadata": {},
     "output_type": "display_data"
    },
    {
     "data": {
      "text/plain": [
       "None"
      ]
     },
     "metadata": {},
     "output_type": "display_data"
    }
   ],
   "source": [
    "# Run\n",
    "# ================\n",
    "display(stop_button)\n",
    "thread = threading.Thread(target=on_the_fly_view, args=(stop_button,))\n",
    "thread.start()"
   ]
  },
  {
   "cell_type": "code",
   "execution_count": null,
   "metadata": {},
   "outputs": [
    {
     "name": "stdout",
     "output_type": "stream",
     "text": [
      "Could not find checkerboard corners in the image\n",
      "Could not find checkerboard corners in the image\n",
      "Could not find checkerboard corners in the image\n",
      "Could not find checkerboard corners in the image\n",
      "Could not find checkerboard corners in the image\n",
      "Could not find checkerboard corners in the image\n",
      "Could not find checkerboard corners in the image\n",
      "Could not find checkerboard corners in the image\n",
      "Could not find checkerboard corners in the image\n",
      "Could not find checkerboard corners in the image\n"
     ]
    }
   ],
   "source": [
    "# do multiple images calibration and save the calibration results\n",
    "\n",
    "take_image_button = widgets.ToggleButton(description=\"Take Image\")\n",
    "calibrate_button = widgets.ToggleButton(value=False, description=\"Calibrate\")\n",
    "ar_button = widgets.ToggleButton(value=False, description=\"AR Mode ON\")\n",
    "save_calibration_button = widgets.ToggleButton(value=False, description=\"Save Calibration\")\n",
    "\n",
    "def multiple_images_view(stop_button, take_image_button, calibrate_button, ar_button, save_calibration_button):\n",
    "    cap = cv2.VideoCapture(0)\n",
    "    display_handle=display(None, display_id=True)\n",
    "    i = 0\n",
    "    test_mesh = get_box_mesh_points()\n",
    "    calibration_images = []\n",
    "    final_calibration = None\n",
    "    while i<=10000:\n",
    "        _, raw_frame = cap.read()\n",
    "        if raw_frame is None:\n",
    "            continue\n",
    "        raw_frame = cv2.flip(raw_frame, 1) # if your camera reverses your image\n",
    "        frame = raw_frame.copy()\n",
    "        try:\n",
    "            calibration = None\n",
    "            if final_calibration is not None:\n",
    "                calibration = final_calibration\n",
    "            else:\n",
    "                calibration = ocv_cam_calib.calibrate_camera(frame)\n",
    "            if ar_button.value==False:\n",
    "                frame = draw_reprojection(frame, ocv_cam_calib.get_3d_points(), calibration)\n",
    "                frame = draw_test_mesh(frame, test_mesh, calibration, 0, True)\n",
    "                frame = draw_test_mesh(frame, test_mesh * 2, calibration, 0, True)\n",
    "            else:\n",
    "                rvecs, tvecs = get_points_in_calibrated_sapce(frame, [9, 6], calibration)\n",
    "                ar_calibration = cc.CameraCalibParams(camera_matrix=calibration.camera_matrix, dist_coeffs=calibration.dist_coeffs,\n",
    "                                                      rvecs=rvecs, tvecs=tvecs)\n",
    "                frame = draw_test_mesh(frame, test_mesh, ar_calibration, 0, True)\n",
    "                frame = draw_test_mesh(frame, test_mesh * 2, ar_calibration, 0, True)\n",
    "        except Exception as e:\n",
    "            cv2.putText(frame, str(e), (10, 20), cv2.FONT_HERSHEY_SIMPLEX, 0.5, (255, 0, 0), 2, cv2.LINE_AA)\n",
    "        cv2.putText(frame, \"Press stop button to stop\", (10, 40), cv2.FONT_HERSHEY_SIMPLEX, 0.5, (255, 0, 0), 2, cv2.LINE_AA)\n",
    "        cv2.putText(frame, \"Press take button to add calibration image\", (10, 60), cv2.FONT_HERSHEY_SIMPLEX, 0.5, (255, 0, 0), 2, cv2.LINE_AA)\n",
    "        cv2.putText(frame, f\"Images captured: {len(calibration_images)}\", (10, 80), cv2.FONT_HERSHEY_SIMPLEX, 0.5, (255, 0, 0), 2, cv2.LINE_AA)\n",
    "        _, frame = cv2.imencode('.jpeg', frame)\n",
    "        img = Image(data=frame.tobytes())\n",
    "        display_handle.update(img)\n",
    "        if stop_button.value==True:\n",
    "            cap.release()\n",
    "            display_handle.update(None)\n",
    "        if take_image_button.value==True:\n",
    "            take_image_button.value = False\n",
    "            calibration_images.append(raw_frame)\n",
    "        if calibrate_button.value==True:\n",
    "            calibrate_button.description = \"Clear calibration\"\n",
    "            final_calibration = ocv_cam_calib.calibrate_camera_multiple_images(calibration_images)\n",
    "        if calibrate_button.value==False and final_calibration is not None:\n",
    "            calibrate_button.description = \"Calibrate\"\n",
    "            final_calibration = None\n",
    "            calibration_images = []\n",
    "        if save_calibration_button.value==True:\n",
    "            save_calibration_button.value = False\n",
    "            json.dump(final_calibration.to_dict(), open(\"calibration.json\", \"w\"), indent=4)\n",
    "        if ar_button.value==True:\n",
    "                ar_button.description = \"AR Mode OFF\"\n",
    "        else:\n",
    "            ar_button.description = \"AR Mode ON\"\n",
    "        i += 1"
   ]
  },
  {
   "cell_type": "code",
   "execution_count": null,
   "metadata": {},
   "outputs": [
    {
     "data": {
      "application/vnd.jupyter.widget-view+json": {
       "model_id": "a3aa9df9c3ad4748aa9698aeb0a8f8e7",
       "version_major": 2,
       "version_minor": 0
      },
      "text/plain": [
       "HBox(children=(ToggleButton(value=False, button_style='danger', description='Stop', icon='square', tooltip='St…"
      ]
     },
     "metadata": {},
     "output_type": "display_data"
    },
    {
     "data": {
      "text/plain": [
       "None"
      ]
     },
     "metadata": {},
     "output_type": "display_data"
    }
   ],
   "source": [
    "# RUN calibration\n",
    "\n",
    "#show buttons in one row\n",
    "stop_button.value = False\n",
    "take_image_button.value = False\n",
    "calibrate_button.value = False\n",
    "hbox = widgets.HBox([stop_button, take_image_button, calibrate_button, ar_button, save_calibration_button])\n",
    "display(hbox)\n",
    "thread = threading.Thread(target=multiple_images_view, args=(stop_button,take_image_button,calibrate_button,ar_button,save_calibration_button, ))\n",
    "thread.start()"
   ]
  }
 ],
 "metadata": {
  "kernelspec": {
   "display_name": "Python 3",
   "language": "python",
   "name": "python3"
  },
  "language_info": {
   "codemirror_mode": {
    "name": "ipython",
    "version": 3
   },
   "file_extension": ".py",
   "mimetype": "text/x-python",
   "name": "python",
   "nbconvert_exporter": "python",
   "pygments_lexer": "ipython3",
   "version": "3.9.17"
  },
  "orig_nbformat": 4
 },
 "nbformat": 4,
 "nbformat_minor": 2
}

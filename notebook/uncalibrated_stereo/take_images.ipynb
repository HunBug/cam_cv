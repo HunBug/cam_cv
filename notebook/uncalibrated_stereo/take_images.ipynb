{
 "cells": [
  {
   "cell_type": "code",
   "execution_count": 1,
   "metadata": {},
   "outputs": [],
   "source": [
    "import matplotlib.pyplot as plt\n",
    "import cv2\n",
    "import numpy as np\n",
    "from IPython.display import display, Image\n",
    "import ipywidgets as widgets\n",
    "import threading"
   ]
  },
  {
   "cell_type": "code",
   "execution_count": null,
   "metadata": {},
   "outputs": [],
   "source": [
    "# Do on-the-fly calibration on the camera\n",
    "# Stop button\n",
    "# ================\n",
    "stop_button = widgets.ToggleButton(\n",
    "    value=False,\n",
    "    description='Stop',\n",
    "    disabled=False,\n",
    "    button_style='danger', # 'success', 'info', 'warning', 'danger' or ''\n",
    "    tooltip='Stop the camera',\n",
    "    icon='square'\n",
    ")\n",
    "\n",
    "take_image_button = widgets.ToggleButton(\n",
    "    description='Take image',\n",
    "    value=False,\n",
    "    disabled=False,\n",
    "    button_style='success', # 'success', 'info', 'warning', 'danger' or ''\n",
    "    tooltip='Take an image',\n",
    "    icon='camera'\n",
    ")\n",
    "\n",
    "\n",
    "# Display function\n",
    "# ================\n",
    "def take_images_view(stop_button, take_image_button):\n",
    "    cap = cv2.VideoCapture(0)\n",
    "    display_handle=display(None, display_id=True)\n",
    "    i = 0\n",
    "    while i<=10000:\n",
    "        _, frame = cap.read()\n",
    "        frame = cv2.flip(frame, 1) # if your camera reverses your image\n",
    "        _, encoded_frame = cv2.imencode('.jpeg', frame)\n",
    "        img = Image(data=encoded_frame.tobytes())\n",
    "        display_handle.update(img)\n",
    "        if stop_button.value==True:\n",
    "            cap.release()\n",
    "            display_handle.update(None)\n",
    "            break\n",
    "        if take_image_button.value==True:\n",
    "            take_image_button.value=False\n",
    "            cv2.imwrite(f'image{i}.png', frame)\n",
    "        i += 1"
   ]
  },
  {
   "cell_type": "code",
   "execution_count": null,
   "metadata": {},
   "outputs": [
    {
     "data": {
      "application/vnd.jupyter.widget-view+json": {
       "model_id": "4bef58333f474676a5b143d6c88bdd16",
       "version_major": 2,
       "version_minor": 0
      },
      "text/plain": [
       "HBox(children=(ToggleButton(value=False, button_style='danger', description='Stop', icon='square', tooltip='St…"
      ]
     },
     "metadata": {},
     "output_type": "display_data"
    },
    {
     "data": {
      "text/plain": [
       "None"
      ]
     },
     "metadata": {},
     "output_type": "display_data"
    }
   ],
   "source": [
    "# RUN calibration\n",
    "\n",
    "#show buttons in one row\n",
    "stop_button.value = False\n",
    "take_image_button.value = False\n",
    "hbox = widgets.HBox([stop_button, take_image_button])\n",
    "display(hbox)\n",
    "thread = threading.Thread(target=take_images_view, args=(stop_button,take_image_button, ))\n",
    "thread.start()"
   ]
  }
 ],
 "metadata": {
  "kernelspec": {
   "display_name": "Python 3",
   "language": "python",
   "name": "python3"
  },
  "language_info": {
   "codemirror_mode": {
    "name": "ipython",
    "version": 3
   },
   "file_extension": ".py",
   "mimetype": "text/x-python",
   "name": "python",
   "nbconvert_exporter": "python",
   "pygments_lexer": "ipython3",
   "version": "3.9.17"
  },
  "orig_nbformat": 4
 },
 "nbformat": 4,
 "nbformat_minor": 2
}

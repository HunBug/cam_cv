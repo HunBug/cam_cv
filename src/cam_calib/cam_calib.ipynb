{
 "cells": [
  {
   "cell_type": "code",
   "execution_count": 2,
   "metadata": {},
   "outputs": [
    {
     "data": {
      "text/plain": [
       "<module 'camera_calibration' from 'c:\\\\Users\\\\akoss\\\\work\\\\hunbug\\\\repos\\\\cam_cv\\\\src\\\\cam_calib\\\\camera_calibration.py'>"
      ]
     },
     "execution_count": 2,
     "metadata": {},
     "output_type": "execute_result"
    }
   ],
   "source": [
    "import matplotlib.pyplot as plt\n",
    "import cv2\n",
    "import numpy as np\n",
    "from IPython.display import display, Image\n",
    "import ipywidgets as widgets\n",
    "import threading\n",
    "\n",
    "import camera_calibration as cc\n",
    "# make sure to reload the module if it was already imported\n",
    "import importlib\n",
    "importlib.reload(cc)"
   ]
  },
  {
   "cell_type": "code",
   "execution_count": 3,
   "metadata": {},
   "outputs": [],
   "source": [
    "ocv_cam_calib = cc.OpenCvCalibration((9, 6), 1.0)\n",
    "NEEDED_SUCCESSFUL_CALIBRATIONS = 10"
   ]
  },
  {
   "cell_type": "code",
   "execution_count": null,
   "metadata": {},
   "outputs": [
    {
     "name": "stderr",
     "output_type": "stream",
     "text": [
      "Exception in thread Thread-9 (on_the_fly_view):\n",
      "Traceback (most recent call last):\n",
      "  File \"c:\\Users\\akoss\\work\\hunbug\\repos\\cam_cv\\.conda\\lib\\threading.py\", line 1016, in _bootstrap_inner\n",
      "    self.run()\n",
      "  File \"c:\\Users\\akoss\\work\\hunbug\\repos\\cam_cv\\.conda\\lib\\threading.py\", line 953, in run\n",
      "    self._target(*self._args, **self._kwargs)\n",
      "  File \"C:\\Users\\akoss\\AppData\\Local\\Temp\\ipykernel_18932\\4203501213.py\", line 97, in on_the_fly_view\n",
      "cv2.error: OpenCV(4.8.0) D:\\a\\opencv-python\\opencv-python\\opencv\\modules\\imgcodecs\\src\\loadsave.cpp:1113: error: (-215:Assertion failed) !image.empty() in function 'cv::imencode'\n",
      "\n"
     ]
    }
   ],
   "source": [
    "# Do on-the-fly calibration on the camera\n",
    "# Stop button\n",
    "# ================\n",
    "stop_button = widgets.ToggleButton(\n",
    "    value=False,\n",
    "    description='Stop',\n",
    "    disabled=False,\n",
    "    button_style='danger', # 'success', 'info', 'warning', 'danger' or ''\n",
    "    tooltip='Stop the camera',\n",
    "    icon='square'\n",
    ")\n",
    "\n",
    "def draw_reprojection(image: np.ndarray, points_3d: np.ndarray, camera_calib_params: cc.CameraCalibParams) -> np.ndarray:\n",
    "    projected_points = ocv_cam_calib.project_points(points_3d, camera_calib_params)\n",
    "    result_image = image.copy()\n",
    "    for i in range(projected_points.shape[0]):\n",
    "        center = (int(projected_points[i][0][0]), int(projected_points[i][0][1]))\n",
    "        cv2.circle(result_image, center, 3, (0, 0, 255), -1)\n",
    "    return result_image\n",
    "\n",
    "def draw_test_mesh(image: np.ndarray, points_3d: np.ndarray, camera_calib_params: cc.CameraCalibParams,\n",
    "                    rotation_index: int = 0, connect_points: bool = False) -> np.ndarray:\n",
    "    # rotation center is the middle of the mesh\n",
    "    rotation_center = np.mean(points_3d, axis=0)\n",
    "    ROTATION_ANGLE_PER_FRAME = 0.1\n",
    "    rotation_angle = ROTATION_ANGLE_PER_FRAME * rotation_index\n",
    "    rotation_matrix = cv2.Rodrigues(np.array([0, rotation_angle, 0]))[0]\n",
    "    rotated_points_3d = np.matmul(points_3d - rotation_center, rotation_matrix) + rotation_center\n",
    "    projected_points = ocv_cam_calib.project_points(rotated_points_3d, camera_calib_params)\n",
    "    result_image = image.copy()\n",
    "    for i in range(projected_points.shape[0]):\n",
    "        if connect_points:\n",
    "            if i > 0:\n",
    "                cv2.line(result_image, (int(projected_points[i-1][0][0]), int(projected_points[i-1][0][1])),\n",
    "                         (int(projected_points[i][0][0]), int(projected_points[i][0][1])), (0, 0, 255), 1)\n",
    "        else:\n",
    "            center = (int(projected_points[i][0][0]), int(projected_points[i][0][1]))\n",
    "            cv2.circle(result_image, center, 3, (0, 0, 255), -1)\n",
    "    return result_image\n",
    "\n",
    "def get_heart_mesh_points() -> np.ndarray:\n",
    "    heart_points = np.array([\n",
    "        [0,0,0],\n",
    "        [-2, 2, 0],\n",
    "        [-1,3,0],\n",
    "        [0,2,0],\n",
    "        [1,3,0],\n",
    "        [2,2,0],\n",
    "        [0,0,0]\n",
    "        ], dtype=np.float32)\n",
    "    return heart_points\n",
    "\n",
    "def get_box_mesh_points() -> np.ndarray:\n",
    "    box_connected_points = np.array([\n",
    "        [0,0,0],\n",
    "        [0,1,0],\n",
    "        [1,1,0],\n",
    "        [1,0,0],\n",
    "        [0,0,0],\n",
    "        [0,0,-1],\n",
    "        [0,1,-1],\n",
    "        [1,1,-1],\n",
    "        [1,0,-1],\n",
    "        [0,0,-1],\n",
    "        [0,1,-1],\n",
    "        [1,1,-1],\n",
    "        [1,1,0],\n",
    "        [1,1,-1],\n",
    "        [1,0,-1],\n",
    "        [1,0,0],\n",
    "        [0,0,0]\n",
    "        ], dtype=np.float32)\n",
    "    box_connected_points = box_connected_points + [3,3,0]\n",
    "    return box_connected_points\n",
    "        \n",
    "\n",
    "\n",
    "# Display function\n",
    "# ================\n",
    "def on_the_fly_view(button):\n",
    "    cap = cv2.VideoCapture(0)\n",
    "    display_handle=display(None, display_id=True)\n",
    "    i = 0\n",
    "    test_mesh = get_heart_mesh_points()\n",
    "    test_mesh2 = get_box_mesh_points()\n",
    "    while i<=10000:\n",
    "        _, frame = cap.read()\n",
    "        frame = cv2.flip(frame, 1) # if your camera reverses your image\n",
    "        try:\n",
    "            calibration = ocv_cam_calib.calibrate_camera(frame)\n",
    "            frame = draw_reprojection(frame, ocv_cam_calib.get_3d_points(), calibration)\n",
    "            frame = draw_test_mesh(frame, test_mesh, calibration, i, True)\n",
    "            frame = draw_test_mesh(frame, test_mesh2, calibration, 0, True)\n",
    "        except Exception as e:\n",
    "            cv2.putText(frame, str(e), (10, 50), cv2.FONT_HERSHEY_SIMPLEX, 0.5, (255, 0, 0), 2, cv2.LINE_AA)\n",
    "        cv2.putText(frame, \"Press stop button to stop\", (10, 100), cv2.FONT_HERSHEY_SIMPLEX, 0.5, (255, 0, 0), 2, cv2.LINE_AA)\n",
    "        _, frame = cv2.imencode('.jpeg', frame)\n",
    "        img = Image(data=frame.tobytes())\n",
    "        display_handle.update(img)\n",
    "        if stop_button.value==True:\n",
    "            cap.release()\n",
    "            display_handle.update(None)\n",
    "        i += 1\n",
    "\n",
    "            \n"
   ]
  },
  {
   "cell_type": "code",
   "execution_count": 9,
   "metadata": {},
   "outputs": [
    {
     "data": {
      "application/vnd.jupyter.widget-view+json": {
       "model_id": "27ace354f52443e6b7a7bfe652260ed9",
       "version_major": 2,
       "version_minor": 0
      },
      "text/plain": [
       "ToggleButton(value=False, button_style='danger', description='Stop', icon='square', tooltip='Stop the camera')"
      ]
     },
     "metadata": {},
     "output_type": "display_data"
    },
    {
     "data": {
      "text/plain": [
       "None"
      ]
     },
     "metadata": {},
     "output_type": "display_data"
    }
   ],
   "source": [
    "# Run\n",
    "# ================\n",
    "display(stop_button)\n",
    "thread = threading.Thread(target=on_the_fly_view, args=(stop_button,))\n",
    "thread.start()"
   ]
  },
  {
   "cell_type": "code",
   "execution_count": 10,
   "metadata": {},
   "outputs": [],
   "source": [
    "# do multiple images calibration and save the calibration results\n",
    "\n",
    "take_image_button = widgets.ToggleButton(description=\"Take Image\")\n",
    "calibrate_button = widgets.ToggleButton(value=False, description=\"Calibrate\")\n",
    "\n",
    "def multiple_images_view(stop_button, take_image_button, calibrate_button):\n",
    "    cap = cv2.VideoCapture(0)\n",
    "    display_handle=display(None, display_id=True)\n",
    "    i = 0\n",
    "    test_mesh = get_box_mesh_points()\n",
    "    calibration_images = []\n",
    "    final_calibration = None\n",
    "    while i<=10000:\n",
    "        _, frame = cap.read()\n",
    "        frame = cv2.flip(frame, 1) # if your camera reverses your image\n",
    "        try:\n",
    "            calibration = None\n",
    "            if final_calibration is not None:\n",
    "                calibration = final_calibration\n",
    "            else:\n",
    "                calibration = ocv_cam_calib.calibrate_camera(frame)\n",
    "            frame = draw_reprojection(frame, ocv_cam_calib.get_3d_points(), calibration)\n",
    "        except Exception as e:\n",
    "            cv2.putText(frame, str(e), (10, 50), cv2.FONT_HERSHEY_SIMPLEX, 0.5, (255, 0, 0), 2, cv2.LINE_AA)\n",
    "        cv2.putText(frame, \"Press stop button to stop\", (0, 100), cv2.FONT_HERSHEY_SIMPLEX, 0.5, (255, 0, 0), 2, cv2.LINE_AA)\n",
    "        cv2.putText(frame, \"Press take button to add calibration image\", (5, 100), cv2.FONT_HERSHEY_SIMPLEX, 0.5, (255, 0, 0), 2, cv2.LINE_AA)\n",
    "        cv2.putText(frame, f\"Images captured: {len(calibration_images)}\", (10, 100), cv2.FONT_HERSHEY_SIMPLEX, 0.5, (255, 0, 0), 2, cv2.LINE_AA)\n",
    "        _, frame = cv2.imencode('.jpeg', frame)\n",
    "        img = Image(data=frame.tobytes())\n",
    "        display_handle.update(img)\n",
    "        if stop_button.value==True:\n",
    "            cap.release()\n",
    "            display_handle.update(None)\n",
    "        if take_image_button.value==True:\n",
    "            take_image_button.value = False\n",
    "            calibration_images.append(frame)\n",
    "        if calibrate_button.value==True:\n",
    "            calibrate_button.description = \"Clear calibration\"\n",
    "            final_calibration = ocv_cam_calib.calibrate_camera_multiple_images(calibration_images)\n",
    "        if calibrate_button.value==False and final_calibration is not None:\n",
    "            calibrate_button.description = \"Calibrate\"\n",
    "            final_calibration = None\n",
    "        i += 1"
   ]
  },
  {
   "cell_type": "code",
   "execution_count": null,
   "metadata": {},
   "outputs": [
    {
     "data": {
      "text/plain": [
       "None"
      ]
     },
     "metadata": {},
     "output_type": "display_data"
    },
    {
     "name": "stderr",
     "output_type": "stream",
     "text": [
      "Exception in thread Thread-10 (multiple_images_view):\n",
      "Traceback (most recent call last):\n",
      "  File \"c:\\Users\\akoss\\work\\hunbug\\repos\\cam_cv\\.conda\\lib\\threading.py\", line 1016, in _bootstrap_inner\n",
      "    self.run()\n",
      "  File \"c:\\Users\\akoss\\work\\hunbug\\repos\\cam_cv\\.conda\\lib\\threading.py\", line 953, in run\n",
      "    self._target(*self._args, **self._kwargs)\n",
      "  File \"C:\\Users\\akoss\\AppData\\Local\\Temp\\ipykernel_18932\\3720617448.py\", line 34, in multiple_images_view\n",
      "AttributeError: 'Button' object has no attribute 'value'\n"
     ]
    }
   ],
   "source": [
    "# RUN calibration\n",
    "\n",
    "#show buttons in one row\n",
    "hbox = widgets.HBox([stop_button, take_image_button, calibrate_button])\n",
    "thread = threading.Thread(target=multiple_images_view, args=(stop_button,take_image_button,calibrate_button,))\n",
    "thread.start()"
   ]
  }
 ],
 "metadata": {
  "kernelspec": {
   "display_name": "Python 3",
   "language": "python",
   "name": "python3"
  },
  "language_info": {
   "codemirror_mode": {
    "name": "ipython",
    "version": 3
   },
   "file_extension": ".py",
   "mimetype": "text/x-python",
   "name": "python",
   "nbconvert_exporter": "python",
   "pygments_lexer": "ipython3",
   "version": "3.10.12"
  },
  "orig_nbformat": 4
 },
 "nbformat": 4,
 "nbformat_minor": 2
}
